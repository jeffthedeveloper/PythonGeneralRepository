# Introduction to Sets in Python

"""
Sets (SETS):

CREATING THE SET
    USING KEYS: s = {1, 2, 3}
    USING THE FUNCTION set(): s = set([1, 2, 3])

    s1 | s2 or s1.union(s2)
    s1 & s2 or s1.intersection(s2)
    s1 - s2 or s1.difference(s2)
    s1 ^ s2 or s1.symmetric_difference(s2)
    s1.issubset(s2)
    s1.issuperset(s2)

ANOTHER FUNCTIONS AND METHODS
    len(): RETURN THE NUMBER OF ELEMENTS.
    in: VERIFY THE EXISTENCE OF ELEMENTS.
    copy(): RETURNS A COPY.
"""

# Example of Creating and Using Sets

# Creating a list with duplicate elements
lista = [1, 2, 2, 3, 4, 4, 5, 5, 5]
print(lista)

# Converting the list to a set to remove duplicates
SETS = set(lista)
print(SETS)  # OUTPUT: {1, 2, 3, 4, 5}

print()

# Creating a set with different types of elements
SETS = {1, 2, "Python", (4, 5)}
print(SETS)  # OUTPUT: {1, (4, 5), 2, 'Python'}

# Trying to add a list to a set, which will raise an error
try:
    SETS.add([6, 7])
except TypeError as e:
    print(f"ERROR: {e}")  # OUTPUT: ERROR: unhashable type: 'list'

print()

# Creating Sets Using Keys and the set() Function

# Creating the set using keys
s_KEYS = {1, 2, 3, 3, 4}
print(s_KEYS)  # OUTPUT: {1, 2, 3, 4}

# Creating the set using the set() function from a list
s_FUNCTION = set([1, 2, 3, 3, 4])
print(s_FUNCTION)  # OUTPUT: {1, 2, 3, 4}

# Verifying if the sets created by the two methods are equal
print(s_KEYS == s_FUNCTION)  # OUTPUT: True

print()

# Both approaches are valid for creating sets in Python. Using keys is more concise
# and generally preferred when you already know the elements to include in the set.
# The set() function is versatile and can be used to convert other data structures,
# like lists or tuples, into sets.

# Example: Adding and Removing Elements in a Set

s = {1, 2, 3, 4}
print(s)  # OUTPUT: {1, 2, 3, 4}

# Adding elements to the set
s.add(5)
print(s)  # OUTPUT: {1, 2, 3, 4, 5}

s.add(3)  # Trying to add an element that already exists
print(s)  # OUTPUT: {1, 2, 3, 4, 5}

# Removing elements from the set
s.remove(5)
print(s)  # OUTPUT: {1, 2, 3, 4}

# Trying to remove an element that does not exist
try:
    s.remove(50)
except KeyError as e:
    print(f"ERROR: {e}")  # OUTPUT: ERROR: 50

# Using discard() to remove an element if it exists
s.discard(4)
print(s)  # OUTPUT: {1, 2, 3}

s.discard(4)  # Trying to discard an element that does not exist
print(s)  # OUTPUT: {1, 2, 3} - No error is generated

# Using pop() to remove and return a random element from the set
elemento_removido = s.pop()
print(f"Elemento removido: {elemento_removido}")
print(s)  # OUTPUT varies because sets are unordered. Example output: {2, 3}

# Clearing all elements from the set
s.clear()
print(s)  # OUTPUT: set()

# These examples illustrate the use of various methods for adding and removing elements in sets.
# Each method has its own utility, depending on the specific need of the operation or application.
print()
Here is your notebook content translated to English:

```python
{
 "cells": [
  {
   "cell_type": "markdown",
   "id": "5a7e24a0",
   "metadata": {},
   "source": [
    "# Exercises on Sets in Python"
   ]
  },
  {
   "cell_type": "markdown",
   "id": "63da7b28",
   "metadata": {},
   "source": [
    "## 1. Creation and Basic Operations\n",
    "### Steps:\n",
    "\n",
    "1. Create a list called `numbers` containing the numbers: 1, 2, 3, 4, 5, 1, 2, 3, 4, 5.\n",
    "2. Convert this list to a set called `unique_numbers` and print the result.\n",
    "3. Test if the number 25 is present in the `unique_numbers` set and print an appropriate message."
   ]
  },
  {
   "cell_type": "code",
   "execution_count": 1,
   "id": "7ffea999",
   "metadata": {},
   "outputs": [],
   "source": [
    "# Step 1: Create the list\n",
    "numbers = [1, 2, 3, 4, 5, 1, 2, 3, 4, 5]\n",
    "\n",
    "# Step 2: Convert to set\n",
    "unique_numbers = set(numbers)\n",
    "print(unique_numbers)"
   ]
  },
  {
   "cell_type": "code",
   "execution_count": 2,
   "id": "d6c8e067",
   "metadata": {},
   "outputs": [
    {
     "name": "stdout",
     "output_type": "stream",
     "text": [
      "{1, 2, 3, 4, 5}\n"
     ]
    }
   ],
   "source": [
    "# Step 3: Test membership\n",
    "if 25 in unique_numbers:\n",
    "    print(\"The number 25 is present.\")\n",
    "else:\n",
    "    print(\"The number 25 is not present.\")"
   ]
  },
  {
   "cell_type": "markdown",
   "id": "f93f7411",
   "metadata": {},
   "source": [
    "## 2. Set Operations\n",
    "### Steps:\n",
    "\n",
    "1. Given the sets `set_a = {1, 2, 3, 4}` and `set_b = {3, 4, 5, 6}`, perform the following operations:\n",
    "    - Find the union of both sets and print the result.\n",
    "    - Find the intersection of both sets and print the result.\n",
    "    - Find the difference of `set_a` with respect to `set_b` and print the result.\n",
    "    - Find the symmetric difference between the two sets and print the result."
   ]
  },
  {
   "cell_type": "code",
   "execution_count": 3,
   "id": "e46bcf9c",
   "metadata": {},
   "outputs": [],
   "source": [
    "set_a = {1, 2, 3, 4}\n",
    "set_b = {3, 4, 5, 6}\n",
    "\n",
    "# Union\n",
    "print(\"Union:\", set_a | set_b)\n",
    "\n",
    "# Intersection\n",
    "print(\"Intersection:\", set_a & set_b)\n",
    "\n",
    "# Difference\n",
    "print(\"Difference:\", set_a - set_b)\n",
    "\n",
    "# Symmetric Difference\n",
    "print(\"Symmetric Difference:\", set_a ^ set_b)"
   ]
  },
  {
   "cell_type": "markdown",
   "id": "65a6e970",
   "metadata": {},
   "source": [
    "## 3. Limitations of Sets\n",
    "### Steps:\n",
    "\n",
    "1. Sets do not support indexing, slicing, or other sequence operations.\n",
    "2. Sets cannot contain duplicate elements.\n",
    "3. Elements of a set must be immutable (hashable)."
   ]
  },
  {
   "cell_type": "markdown",
   "id": "36236ff5",
   "metadata": {},
   "source": [
    "### Examples:\n",
    "\n",
    "#### 1. No Indexing and Slicing\n",
    "Sets are unordered collections, so you cannot access or modify an element of the set using indexing or slicing.\n",
    "\n",
    "```python\n",
    "my_set = {1, 2, 3, 4, 5}\n",
    "print(my_set[0])  # TypeError: 'set' object is not subscriptable\n",
    "print(my_set[1:3])  # TypeError: 'set' object is not subscriptable\n",
    "```\n",
    "\n",
    "#### 2. No Duplicates\n",
    "Sets do not allow duplicate elements. If you try to create a set with duplicate elements, it will automatically remove them.\n",
    "\n",
    "```python\n",
    "numbers = {1, 2, 2, 3, 4, 4, 5}\n",
    "print(numbers)  # Output: {1, 2, 3, 4, 5}\n",
    "```\n",
    "\n",
    "#### 3. Elements of a Set Must Be Immutable\n",
    "This means you cannot have, for example, lists or dictionaries as elements of the set, as they are mutable types.\n",
    "\n",
    "```python\n",
    "# Attempt to add a list to a set\n",
    "invalid_set = {1, 2, [3, 4]}  # TypeError: unhashable type: 'list'\n",
    "\n",
    "# Attempt to add a dictionary to a set\n",
    "invalid_set = {1, 2, {\"key\": \"value\"}}  # TypeError: unhashable type: 'dict'\n",
    "```\n",
    "\n",
    "When working with sets, it is important to be aware of these limitations to avoid errors and confusion."
   ]
  },
  {
   "cell_type": "markdown",
   "id": "c8fe29cb",
   "metadata": {},
   "source": [
    "## Exercise: Exploring the Limitations of Sets\n",
    "### Objective:\n",
    "Understand the fundamental limitations of sets in Python.\n",
    "\n",
    "### Instructions:\n",
    "\n",
    "1. **Indexing and Slicing:**\n",
    "    - Create a set called `fruits` containing the following elements: \"apple\", \"banana\", \"cherry\".\n",
    "    - Try to access the first element of `fruits` using indexing.\n",
    "    - Try to get a subset of `fruits` using slicing.\n",
    "\n",
    "2. **Duplicates:**\n",
    "    - Create a set called `numbers` with the following elements: 5, 5, 5, 2, 2, 1.\n",
    "    - Print the set `numbers` and observe the result.\n",
    "\n",
    "3. **Adding Mutable Elements:**\n",
    "    - Try to create a set `invalid_set` containing a number, a string, and a list.\n",
    "    - Next, try to create another set `invalid_set_2` containing a number, a string, and a dictionary."
   ]
  },
  {
   "cell_type": "code",
   "execution_count": 4,
   "id": "bd37d1d6",
   "metadata": {},
   "outputs": [],
   "source": [
    "# Solution:\n",
    "\n",
    "# 1. Indexing and Slicing\n",
    "fruits = {\"apple\", \"banana\", \"cherry\"}\n",
    "\n",
    "# Both of the next lines will result in errors when uncommented\n",
    "# print(fruits[0])  # TypeError: 'set' object is not subscriptable\n",
    "# print(fruits[0:2])  # TypeError: 'set' object is not subscriptable\n",
    "\n",
    "# 2. Duplicates\n",
    "numbers = {5, 5, 5, 2, 2, 1}\n",
    "print(numbers)  # Output: {1, 2, 5}\n",
    "\n",
    "# 3. Adding Mutable Elements\n",
    "# Both of the next lines will result in errors when uncommented\n",
    "# invalid_set = {1, \"text\", [1, 2]}  # TypeError: unhashable type: 'list'\n",
    "# invalid_set_2 = {1, \"text\", {\"key\": \"value\"}}  # TypeError: unhashable type: 'dict'"
   ]
  },
